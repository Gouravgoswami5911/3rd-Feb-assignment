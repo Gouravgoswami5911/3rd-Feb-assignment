{
 "cells": [
  {
   "cell_type": "code",
   "execution_count": 1,
   "id": "5a2918d8",
   "metadata": {},
   "outputs": [
    {
     "name": "stdout",
     "output_type": "stream",
     "text": [
      "The list of odd numbers in the range of 1 to 25: [1, 3, 5, 7, 9, 11, 13, 15, 17, 19, 21, 23, 25]\n"
     ]
    }
   ],
   "source": [
    "#question1: Which keyword is used to create a function? Create a function to return a list of odd numbers in the\n",
    "# range of 1 to 25.\n",
    "\n",
    "\n",
    "\n",
    "\n",
    "def get_odd_numbers():\n",
    "    odd_numbers = []\n",
    "    for i in range(1, 26):\n",
    "        if i % 2 != 0:\n",
    "            odd_numbers.append(i)\n",
    "    return odd_numbers\n",
    "\n",
    "odd_numbers = get_odd_numbers()\n",
    "print(\"The list of odd numbers in the range of 1 to 25:\", odd_numbers)\n"
   ]
  },
  {
   "cell_type": "code",
   "execution_count": 2,
   "id": "84bbd171",
   "metadata": {},
   "outputs": [
    {
     "name": "stdout",
     "output_type": "stream",
     "text": [
      "The arguments passed to the function are: (1, 2, 3, 4, 5)\n"
     ]
    }
   ],
   "source": [
    " #Question2: Why *args and **kwargs is used in some functions? Create a function each for *args and **kwargs\n",
    "# to demonstrate their use.\n",
    "\n",
    "\n",
    "\n",
    "\n",
    "\"\"\"*args and **kwargs are used in functions to pass a variable number of arguments to a function.\n",
    "\n",
    "*args is used to pass a non-keyworded, variable-length argument list to a function. The syntax is *args, where args is the name of the list that will hold all the arguments passed to the function.\n",
    "\n",
    "Here's an example function that demonstrates the use of *args:\"\"\"\n",
    "\n",
    "\n",
    "\n",
    "\n",
    "\n",
    "def print_args(*args):\n",
    "    print(\"The arguments passed to the function are:\", args)\n",
    "\n",
    "print_args(1, 2, 3, 4, 5)\n",
    "\n",
    "\n",
    "\n"
   ]
  },
  {
   "cell_type": "code",
   "execution_count": 3,
   "id": "76d9f0f0",
   "metadata": {},
   "outputs": [
    {
     "name": "stdout",
     "output_type": "stream",
     "text": [
      "The keyword arguments passed to the function are: {'a': 1, 'b': 2, 'c': 3, 'd': 4, 'e': 5}\n"
     ]
    }
   ],
   "source": [
    "\"\"\"**kwargs is used to pass keyworded, variable-length argument list to a function. The syntax is **kwargs, where kwargs is the name of the dictionary that will hold all the keyword arguments passed to the function.\n",
    "\n",
    "Here's an example function that demonstrates the use of **kwargs:\"\"\"\n",
    "\n",
    "\n",
    "\n",
    "\n",
    "def print_kwargs(**kwargs):\n",
    "    print(\"The keyword arguments passed to the function are:\", kwargs)\n",
    "\n",
    "print_kwargs(a=1, b=2, c=3, d=4, e=5)\n",
    "\n",
    "\n"
   ]
  },
  {
   "cell_type": "code",
   "execution_count": 4,
   "id": "593f9bcf",
   "metadata": {},
   "outputs": [
    {
     "name": "stdout",
     "output_type": "stream",
     "text": [
      "2\n",
      "4\n",
      "6\n",
      "8\n",
      "10\n"
     ]
    }
   ],
   "source": [
    "#Question3: What is an iterator in python? Name the method used to initialise the iterator object and the method\n",
    "# used for iteration. Use these methods to print the first five elements of the given list [2, 4, 6, 8, 10, 12, 14,\n",
    "# 16, 18, 20].\n",
    "\n",
    "\n",
    "\n",
    "\n",
    "numbers = [2, 4, 6, 8, 10, 12, 14, 16, 18, 20]\n",
    "\n",
    "class IterateNumbers:\n",
    "    def __init__(self, numbers):\n",
    "        self.numbers = numbers\n",
    "        self.index = 0\n",
    "    \n",
    "    def __iter__(self):\n",
    "        return self\n",
    "    \n",
    "    def __next__(self):\n",
    "        if self.index < len(self.numbers):\n",
    "            number = self.numbers[self.index]\n",
    "            self.index += 1\n",
    "            return number\n",
    "        else:\n",
    "            raise StopIteration\n",
    "\n",
    "numbers_iterator = IterateNumbers(numbers)\n",
    "\n",
    "count = 0\n",
    "for number in numbers_iterator:\n",
    "    print(number)\n",
    "    count += 1\n",
    "    if count == 5:\n",
    "        break\n"
   ]
  },
  {
   "cell_type": "code",
   "execution_count": 5,
   "id": "1fd0e973",
   "metadata": {},
   "outputs": [
    {
     "name": "stdout",
     "output_type": "stream",
     "text": [
      "0\n",
      "1\n",
      "1\n",
      "2\n",
      "3\n",
      "5\n",
      "8\n",
      "13\n",
      "21\n",
      "34\n"
     ]
    }
   ],
   "source": [
    "#question4: What is a generator function in python? Why yield keyword is used? Give an example of a generator\n",
    "# function.\n",
    "\n",
    "\n",
    "\"\"\"In Python, a generator function is a special type of function that returns an iterable generator object. \n",
    "The generator function contains a yield statement instead of a return statement, and the generator object can be \n",
    "used to generate a series of values.\n",
    "The yield keyword is used in generator functions to produce a value \n",
    "that is returned by the generator and can be used by the caller. Unlike a return statement, \n",
    "which terminates the function and returns a value, the yield statement suspends the execution of the generator function, \n",
    "and the function's state is saved. The next time \n",
    "the generator function is called, execution resumes from where it was previously suspended, and the next value is generated.\n",
    "\"\"\"\n",
    "\n",
    "\n",
    "\n",
    "\"\"\"Here is an example of a generator function in Python that generates the first n fibonacci numbers:\"\"\"\n",
    "\n",
    "\n",
    "\n",
    "def test_fib(n):              \n",
    "    a,b=0,1\n",
    "    for i in range(n):\n",
    "        yield a\n",
    "        a,b=b , a+b\n",
    "\n",
    "for i in test_fib(10):\n",
    "    print(i)"
   ]
  },
  {
   "cell_type": "code",
   "execution_count": 7,
   "id": "9e47dc7d",
   "metadata": {},
   "outputs": [
    {
     "name": "stdout",
     "output_type": "stream",
     "text": [
      "2\n",
      "3\n",
      "5\n",
      "7\n",
      "11\n",
      "13\n",
      "17\n",
      "19\n",
      "23\n",
      "29\n",
      "31\n",
      "37\n",
      "41\n",
      "43\n",
      "47\n",
      "53\n",
      "59\n",
      "61\n",
      "67\n",
      "71\n"
     ]
    }
   ],
   "source": [
    "#Question5: Create a generator function for prime numbers less than 1000. Use the next() method to print the\n",
    "# first 20 prime numbers.\n",
    "\n",
    "\n",
    "\n",
    "\n",
    "def prime_numbers_generator():\n",
    "    primes = []\n",
    "    for num in range(2, 1000):\n",
    "        is_prime = True\n",
    "        for prime in primes:\n",
    "            if prime > num ** 0.5:\n",
    "                break\n",
    "            if num % prime == 0:\n",
    "                is_prime = False\n",
    "                break\n",
    "        if is_prime:\n",
    "            primes.append(num)\n",
    "            yield num\n",
    "\n",
    "# Using the generator function\n",
    "prime_gen = prime_numbers_generator()\n",
    "for i in range(20):\n",
    "    print(next(prime_gen))\n"
   ]
  },
  {
   "cell_type": "code",
   "execution_count": 11,
   "id": "5346b638",
   "metadata": {},
   "outputs": [
    {
     "name": "stdout",
     "output_type": "stream",
     "text": [
      "0\n",
      "1\n",
      "1\n",
      "2\n",
      "3\n",
      "5\n",
      "8\n",
      "13\n",
      "21\n",
      "34\n"
     ]
    }
   ],
   "source": [
    "#Question6: Write a python program to print the first 10 Fibonacci numbers using a while loop.\n",
    "\n",
    "\n",
    "def fibonacci(n):\n",
    "    a, b = 0, 1\n",
    "    while n > 0:\n",
    "        print(a)\n",
    "        a, b = b, a + b\n",
    "        n =n-1\n",
    "\n",
    "fibonacci(10)\n"
   ]
  },
  {
   "cell_type": "code",
   "execution_count": 12,
   "id": "3a16d4f1",
   "metadata": {},
   "outputs": [
    {
     "name": "stdout",
     "output_type": "stream",
     "text": [
      "['p', 'w', 's', 'k', 'i', 'l', 'l', 's']\n"
     ]
    }
   ],
   "source": [
    "#Question7: Write a List Comprehension to iterate through the given string: ‘pwskills’.\n",
    "\n",
    "# Expected output: ['p', 'w', 's', 'k', 'i', 'l', 'l', 's'] \n",
    "\n",
    "\n",
    "\n",
    "\n",
    "\n",
    "\n",
    "string = 'pwskills'\n",
    "result = [char for char in string]\n",
    "print(result)\n"
   ]
  },
  {
   "cell_type": "code",
   "execution_count": 17,
   "id": "2c3a1316",
   "metadata": {},
   "outputs": [
    {
     "name": "stdout",
     "output_type": "stream",
     "text": [
      "Enter a number: 121\n",
      "number is a palindrome.\n"
     ]
    }
   ],
   "source": [
    "#Question8: Write a python program to check whether a given number is Palindrome or not using a while loop.\n",
    "\n",
    "\n",
    "\n",
    "\n",
    "def is_palindrome(n):\n",
    "    num = n\n",
    "    rev = 0\n",
    "    while num > 0:\n",
    "        rev = (rev * 10) + (num % 10)\n",
    "        num = num // 10\n",
    "    return n == rev\n",
    "\n",
    "number = int(input(\"Enter a number: \"))\n",
    "if is_palindrome(number):\n",
    "    print(\"number is a palindrome.\")\n",
    "else:\n",
    "    print(\"number is not a palindrome.\")\n"
   ]
  },
  {
   "cell_type": "code",
   "execution_count": 21,
   "id": "662761d9",
   "metadata": {},
   "outputs": [
    {
     "name": "stdout",
     "output_type": "stream",
     "text": [
      "[1, 3, 5, 7, 9, 11, 13, 15, 17, 19, 21, 23, 25, 27, 29, 31, 33, 35, 37, 39, 41, 43, 45, 47, 49, 51, 53, 55, 57, 59, 61, 63, 65, 67, 69, 71, 73, 75, 77, 79, 81, 83, 85, 87, 89, 91, 93, 95, 97, 99]\n"
     ]
    }
   ],
   "source": [
    "#Question9: Write a code to print odd numbers from 1 to 100 using list comprehension.\n",
    "\n",
    "\n",
    "\n",
    "odd_numbers=[i for i in range(1,100) if i%2!=0]\n",
    "print(odd_numbers)"
   ]
  },
  {
   "cell_type": "code",
   "execution_count": null,
   "id": "89a86e4f",
   "metadata": {},
   "outputs": [],
   "source": [
    " "
   ]
  },
  {
   "cell_type": "code",
   "execution_count": null,
   "id": "32ab8ad6",
   "metadata": {},
   "outputs": [],
   "source": []
  }
 ],
 "metadata": {
  "kernelspec": {
   "display_name": "Python 3 (ipykernel)",
   "language": "python",
   "name": "python3"
  },
  "language_info": {
   "codemirror_mode": {
    "name": "ipython",
    "version": 3
   },
   "file_extension": ".py",
   "mimetype": "text/x-python",
   "name": "python",
   "nbconvert_exporter": "python",
   "pygments_lexer": "ipython3",
   "version": "3.9.6"
  }
 },
 "nbformat": 4,
 "nbformat_minor": 5
}
